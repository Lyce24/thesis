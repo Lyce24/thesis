{
 "cells": [
  {
   "cell_type": "code",
   "execution_count": 2,
   "metadata": {},
   "outputs": [],
   "source": [
    "from gym import Env\n",
    "from gym.spaces import Discrete, Box\n",
    "from src import utils\n",
    "\n",
    "class CubeEnv(Env):\n",
    "    def __init__(self):\n",
    "        self.action_space = Discrete(6)\n",
    "        self.observation_space = Box(low=0, high=6, shape=(6, 6, 6))\n",
    "        self.state = self.observation_space.sample()\n",
    "\n",
    "    def step(self, action):\n",
    "        self.state = self.observation_space.sample()\n",
    "        return self.state, 0, False, {}\n",
    "\n",
    "    def reset(self):\n",
    "        self.state = self.observation_space.sample()\n",
    "        return self.state\n",
    "\n",
    "    def render(self, mode='human'):\n",
    "        print(self.state)\n",
    "        \n",
    "    def close(self):\n",
    "        return super().close()"
   ]
  }
 ],
 "metadata": {
  "kernelspec": {
   "display_name": "rl-thesis",
   "language": "python",
   "name": "python3"
  },
  "language_info": {
   "codemirror_mode": {
    "name": "ipython",
    "version": 3
   },
   "file_extension": ".py",
   "mimetype": "text/x-python",
   "name": "python",
   "nbconvert_exporter": "python",
   "pygments_lexer": "ipython3",
   "version": "3.10.13"
  }
 },
 "nbformat": 4,
 "nbformat_minor": 2
}
